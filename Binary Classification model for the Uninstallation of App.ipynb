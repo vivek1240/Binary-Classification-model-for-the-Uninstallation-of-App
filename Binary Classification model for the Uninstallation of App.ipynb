{
 "cells": [
  {
   "cell_type": "markdown",
   "metadata": {},
   "source": [
    "# Project 1: Binary Classification model for the Uninstallation of App\n"
   ]
  },
  {
   "cell_type": "markdown",
   "metadata": {},
   "source": [
    "## Problem statement: To build a Binary Classification model, to determine if there is specific set of retailers more likely to uninstall the application compared to others. \n"
   ]
  },
  {
   "cell_type": "code",
   "execution_count": 42,
   "metadata": {},
   "outputs": [],
   "source": [
    "import pandas as pd \n",
    "import matplotlib.pyplot as plt \n",
    "import time \n",
    "import numpy as np \n",
    "import seaborn as sns \n",
    "import datetime\n",
    "import seaborn as sns\n",
    "import matplotlib.pyplot as plt\n",
    "from neptunecontrib.monitoring.metrics import log_binary_classification_metrics\n",
    "import pandas as pd\n",
    "import numpy as np\n",
    "from sklearn.metrics import roc_auc_score, accuracy_score, precision_score, recall_score, f1_score\n",
    "from sklearn.linear_model import LogisticRegression\n",
    "from sklearn.tree import DecisionTreeClassifier\n",
    "from sklearn.svm import SVC\n",
    "from sklearn.ensemble import RandomForestClassifier\n",
    "from sklearn.discriminant_analysis import LinearDiscriminantAnalysis, QuadraticDiscriminantAnalysis\n",
    "from sklearn.cluster import KMeans\n",
    "from sklearn.neighbors import KNeighborsClassifier\n",
    "from sklearn.naive_bayes import GaussianNB\n",
    "from sklearn.metrics import precision_recall_fscore_support\n",
    "from sklearn.metrics import mean_squared_error as mse\n",
    "from sklearn.preprocessing import StandardScaler\n",
    "from sklearn.model_selection import cross_validate\n",
    "from sklearn.model_selection import train_test_split\n",
    "from sklearn.ensemble import ExtraTreesClassifier\n",
    "from sklearn.feature_selection import SelectFromModel\n",
    "from sklearn.svm import LinearSVC\n",
    "from sklearn.ensemble import VotingClassifier\n",
    "from sklearn.feature_selection import RFECV\n",
    "import warnings\n",
    "warnings.filterwarnings('ignore')"
   ]
  },
  {
   "cell_type": "markdown",
   "metadata": {},
   "source": [
    "### Importing the dataset"
   ]
  },
  {
   "cell_type": "code",
   "execution_count": 43,
   "metadata": {},
   "outputs": [],
   "source": [
    "#IMPORTING DATASETS\n",
    "responce_data = pd.read_excel (r'H:\\intern_lovelocal\\ML_Project\\back_up_data\\final_dataset_copy_backup.xlsx') #RESPONSE DATASTE\n",
    "uninstallation_data= pd.read_excel (r'H:\\intern_lovelocal\\ML_Project\\uninstalled_app_dataset\\store_id_uninstalled_app_1_col.xlsx') #STORES WHICH UNINSTALLED THE APP\n",
    "\n",
    "\n"
   ]
  },
  {
   "cell_type": "code",
   "execution_count": 44,
   "metadata": {},
   "outputs": [
    {
     "data": {
      "text/html": [
       "<div>\n",
       "<style scoped>\n",
       "    .dataframe tbody tr th:only-of-type {\n",
       "        vertical-align: middle;\n",
       "    }\n",
       "\n",
       "    .dataframe tbody tr th {\n",
       "        vertical-align: top;\n",
       "    }\n",
       "\n",
       "    .dataframe thead th {\n",
       "        text-align: right;\n",
       "    }\n",
       "</style>\n",
       "<table border=\"1\" class=\"dataframe\">\n",
       "  <thead>\n",
       "    <tr style=\"text-align: right;\">\n",
       "      <th></th>\n",
       "      <th>total_orders</th>\n",
       "      <th>average_orders_per_day</th>\n",
       "      <th>average_gap_of_time_in_hours_in_subsequent_orders</th>\n",
       "      <th>ratio_delivered_to_pick_up</th>\n",
       "      <th>total_orders_delivered</th>\n",
       "      <th>total_orders_pickup</th>\n",
       "      <th>avg_delivery_distance_in_metre</th>\n",
       "      <th>avg_basket_size</th>\n",
       "      <th>avg_basket_price</th>\n",
       "      <th>avg_unique_basket_size</th>\n",
       "      <th>...</th>\n",
       "      <th>grocery_or_supermarket</th>\n",
       "      <th>health</th>\n",
       "      <th>hospital</th>\n",
       "      <th>locality</th>\n",
       "      <th>lodging</th>\n",
       "      <th>pharmacy</th>\n",
       "      <th>point_of_interest</th>\n",
       "      <th>political</th>\n",
       "      <th>restaurant</th>\n",
       "      <th>store</th>\n",
       "    </tr>\n",
       "  </thead>\n",
       "  <tbody>\n",
       "    <tr>\n",
       "      <td>0</td>\n",
       "      <td>6712</td>\n",
       "      <td>58.877193</td>\n",
       "      <td>0.408229</td>\n",
       "      <td>190.771429</td>\n",
       "      <td>6677</td>\n",
       "      <td>35</td>\n",
       "      <td>122.089756</td>\n",
       "      <td>3.116063</td>\n",
       "      <td>332.816063</td>\n",
       "      <td>3.073816</td>\n",
       "      <td>...</td>\n",
       "      <td>NaN</td>\n",
       "      <td>3.0</td>\n",
       "      <td>3.0</td>\n",
       "      <td>1</td>\n",
       "      <td>NaN</td>\n",
       "      <td>NaN</td>\n",
       "      <td>18</td>\n",
       "      <td>2</td>\n",
       "      <td>NaN</td>\n",
       "      <td>1.0</td>\n",
       "    </tr>\n",
       "    <tr>\n",
       "      <td>1</td>\n",
       "      <td>38</td>\n",
       "      <td>0.487179</td>\n",
       "      <td>50.711917</td>\n",
       "      <td>0.000000</td>\n",
       "      <td>38</td>\n",
       "      <td>0</td>\n",
       "      <td>315.390632</td>\n",
       "      <td>2.111111</td>\n",
       "      <td>185.333333</td>\n",
       "      <td>2.111111</td>\n",
       "      <td>...</td>\n",
       "      <td>NaN</td>\n",
       "      <td>3.0</td>\n",
       "      <td>3.0</td>\n",
       "      <td>1</td>\n",
       "      <td>NaN</td>\n",
       "      <td>NaN</td>\n",
       "      <td>18</td>\n",
       "      <td>2</td>\n",
       "      <td>NaN</td>\n",
       "      <td>1.0</td>\n",
       "    </tr>\n",
       "    <tr>\n",
       "      <td>2</td>\n",
       "      <td>934</td>\n",
       "      <td>5.247191</td>\n",
       "      <td>4.581109</td>\n",
       "      <td>92.400000</td>\n",
       "      <td>924</td>\n",
       "      <td>10</td>\n",
       "      <td>63.883911</td>\n",
       "      <td>1.074799</td>\n",
       "      <td>376.498274</td>\n",
       "      <td>1.074799</td>\n",
       "      <td>...</td>\n",
       "      <td>NaN</td>\n",
       "      <td>3.0</td>\n",
       "      <td>3.0</td>\n",
       "      <td>1</td>\n",
       "      <td>NaN</td>\n",
       "      <td>NaN</td>\n",
       "      <td>18</td>\n",
       "      <td>2</td>\n",
       "      <td>NaN</td>\n",
       "      <td>1.0</td>\n",
       "    </tr>\n",
       "    <tr>\n",
       "      <td>3</td>\n",
       "      <td>2353</td>\n",
       "      <td>13.219101</td>\n",
       "      <td>1.819067</td>\n",
       "      <td>15.116438</td>\n",
       "      <td>2207</td>\n",
       "      <td>146</td>\n",
       "      <td>226.941565</td>\n",
       "      <td>2.758499</td>\n",
       "      <td>260.164549</td>\n",
       "      <td>2.737397</td>\n",
       "      <td>...</td>\n",
       "      <td>NaN</td>\n",
       "      <td>3.0</td>\n",
       "      <td>3.0</td>\n",
       "      <td>1</td>\n",
       "      <td>NaN</td>\n",
       "      <td>NaN</td>\n",
       "      <td>18</td>\n",
       "      <td>2</td>\n",
       "      <td>NaN</td>\n",
       "      <td>1.0</td>\n",
       "    </tr>\n",
       "    <tr>\n",
       "      <td>4</td>\n",
       "      <td>306</td>\n",
       "      <td>2.684211</td>\n",
       "      <td>9.035357</td>\n",
       "      <td>0.000000</td>\n",
       "      <td>306</td>\n",
       "      <td>0</td>\n",
       "      <td>1072.804944</td>\n",
       "      <td>6.120000</td>\n",
       "      <td>564.400000</td>\n",
       "      <td>6.120000</td>\n",
       "      <td>...</td>\n",
       "      <td>NaN</td>\n",
       "      <td>3.0</td>\n",
       "      <td>3.0</td>\n",
       "      <td>1</td>\n",
       "      <td>NaN</td>\n",
       "      <td>NaN</td>\n",
       "      <td>18</td>\n",
       "      <td>2</td>\n",
       "      <td>NaN</td>\n",
       "      <td>1.0</td>\n",
       "    </tr>\n",
       "  </tbody>\n",
       "</table>\n",
       "<p>5 rows × 36 columns</p>\n",
       "</div>"
      ],
      "text/plain": [
       "   total_orders  average_orders_per_day  \\\n",
       "0          6712               58.877193   \n",
       "1            38                0.487179   \n",
       "2           934                5.247191   \n",
       "3          2353               13.219101   \n",
       "4           306                2.684211   \n",
       "\n",
       "   average_gap_of_time_in_hours_in_subsequent_orders  \\\n",
       "0                                           0.408229   \n",
       "1                                          50.711917   \n",
       "2                                           4.581109   \n",
       "3                                           1.819067   \n",
       "4                                           9.035357   \n",
       "\n",
       "   ratio_delivered_to_pick_up  total_orders_delivered  total_orders_pickup  \\\n",
       "0                  190.771429                    6677                   35   \n",
       "1                    0.000000                      38                    0   \n",
       "2                   92.400000                     924                   10   \n",
       "3                   15.116438                    2207                  146   \n",
       "4                    0.000000                     306                    0   \n",
       "\n",
       "   avg_delivery_distance_in_metre  avg_basket_size  avg_basket_price  \\\n",
       "0                      122.089756         3.116063        332.816063   \n",
       "1                      315.390632         2.111111        185.333333   \n",
       "2                       63.883911         1.074799        376.498274   \n",
       "3                      226.941565         2.758499        260.164549   \n",
       "4                     1072.804944         6.120000        564.400000   \n",
       "\n",
       "   avg_unique_basket_size  ...  grocery_or_supermarket  health  hospital  \\\n",
       "0                3.073816  ...                     NaN     3.0       3.0   \n",
       "1                2.111111  ...                     NaN     3.0       3.0   \n",
       "2                1.074799  ...                     NaN     3.0       3.0   \n",
       "3                2.737397  ...                     NaN     3.0       3.0   \n",
       "4                6.120000  ...                     NaN     3.0       3.0   \n",
       "\n",
       "  locality lodging pharmacy  point_of_interest  political  restaurant  store  \n",
       "0        1     NaN      NaN                 18          2         NaN    1.0  \n",
       "1        1     NaN      NaN                 18          2         NaN    1.0  \n",
       "2        1     NaN      NaN                 18          2         NaN    1.0  \n",
       "3        1     NaN      NaN                 18          2         NaN    1.0  \n",
       "4        1     NaN      NaN                 18          2         NaN    1.0  \n",
       "\n",
       "[5 rows x 36 columns]"
      ]
     },
     "execution_count": 44,
     "metadata": {},
     "output_type": "execute_result"
    }
   ],
   "source": [
    "responce_data.head()"
   ]
  },
  {
   "cell_type": "code",
   "execution_count": 45,
   "metadata": {},
   "outputs": [
    {
     "data": {
      "text/plain": [
       "36"
      ]
     },
     "execution_count": 45,
     "metadata": {},
     "output_type": "execute_result"
    }
   ],
   "source": [
    "len(responce_data.columns)"
   ]
  },
  {
   "cell_type": "markdown",
   "metadata": {},
   "source": [
    "Total columns = 36"
   ]
  },
  {
   "cell_type": "code",
   "execution_count": 46,
   "metadata": {},
   "outputs": [
    {
     "data": {
      "text/plain": [
       "1020"
      ]
     },
     "execution_count": 46,
     "metadata": {},
     "output_type": "execute_result"
    }
   ],
   "source": [
    "len(responce_data)"
   ]
  },
  {
   "cell_type": "markdown",
   "metadata": {},
   "source": [
    "Total Number of retail stores= 1020"
   ]
  },
  {
   "cell_type": "code",
   "execution_count": 47,
   "metadata": {},
   "outputs": [
    {
     "data": {
      "text/plain": [
       "total_orders                                           int64\n",
       "average_orders_per_day                               float64\n",
       "average_gap_of_time_in_hours_in_subsequent_orders    float64\n",
       "ratio_delivered_to_pick_up                           float64\n",
       "total_orders_delivered                                 int64\n",
       "total_orders_pickup                                    int64\n",
       "avg_delivery_distance_in_metre                       float64\n",
       "avg_basket_size                                      float64\n",
       "avg_basket_price                                     float64\n",
       "avg_unique_basket_size                               float64\n",
       "avg_unique_basket_price                              float64\n",
       "average_diff_btwn_range_of_basket_price              float64\n",
       "avg_no_of_customers_per_day                          float64\n",
       "top_five_products_name_max_sale                       object\n",
       "list_bottom_5_products                                object\n",
       "freq_goods_category_sold                              object\n",
       "store_id                                               int64\n",
       "store_latitude                                       float64\n",
       "store_longitude                                      float64\n",
       "cluster_label                                          int64\n",
       "atm                                                  float64\n",
       "bakery                                               float64\n",
       "bank                                                 float64\n",
       "finance                                              float64\n",
       "food                                                 float64\n",
       "gas_station                                          float64\n",
       "grocery_or_supermarket                               float64\n",
       "health                                               float64\n",
       "hospital                                             float64\n",
       "locality                                               int64\n",
       "lodging                                              float64\n",
       "pharmacy                                             float64\n",
       "point_of_interest                                      int64\n",
       "political                                              int64\n",
       "restaurant                                           float64\n",
       "store                                                float64\n",
       "dtype: object"
      ]
     },
     "execution_count": 47,
     "metadata": {},
     "output_type": "execute_result"
    }
   ],
   "source": [
    "responce_data.dtypes"
   ]
  },
  {
   "cell_type": "code",
   "execution_count": 48,
   "metadata": {},
   "outputs": [
    {
     "data": {
      "text/html": [
       "<div>\n",
       "<style scoped>\n",
       "    .dataframe tbody tr th:only-of-type {\n",
       "        vertical-align: middle;\n",
       "    }\n",
       "\n",
       "    .dataframe tbody tr th {\n",
       "        vertical-align: top;\n",
       "    }\n",
       "\n",
       "    .dataframe thead th {\n",
       "        text-align: right;\n",
       "    }\n",
       "</style>\n",
       "<table border=\"1\" class=\"dataframe\">\n",
       "  <thead>\n",
       "    <tr style=\"text-align: right;\">\n",
       "      <th></th>\n",
       "      <th>Identity</th>\n",
       "    </tr>\n",
       "  </thead>\n",
       "  <tbody>\n",
       "    <tr>\n",
       "      <td>0</td>\n",
       "      <td>273470.0</td>\n",
       "    </tr>\n",
       "    <tr>\n",
       "      <td>1</td>\n",
       "      <td>138791.0</td>\n",
       "    </tr>\n",
       "    <tr>\n",
       "      <td>2</td>\n",
       "      <td>503113.0</td>\n",
       "    </tr>\n",
       "    <tr>\n",
       "      <td>3</td>\n",
       "      <td>59044.0</td>\n",
       "    </tr>\n",
       "    <tr>\n",
       "      <td>4</td>\n",
       "      <td>34884.0</td>\n",
       "    </tr>\n",
       "  </tbody>\n",
       "</table>\n",
       "</div>"
      ],
      "text/plain": [
       "   Identity\n",
       "0  273470.0\n",
       "1  138791.0\n",
       "2  503113.0\n",
       "3   59044.0\n",
       "4   34884.0"
      ]
     },
     "execution_count": 48,
     "metadata": {},
     "output_type": "execute_result"
    }
   ],
   "source": [
    "uninstallation_data.head()"
   ]
  },
  {
   "cell_type": "markdown",
   "metadata": {},
   "source": [
    "This is the ID of all those stores who have uninstalled the application"
   ]
  },
  {
   "cell_type": "markdown",
   "metadata": {},
   "source": [
    "### Data cleaning"
   ]
  },
  {
   "cell_type": "code",
   "execution_count": 49,
   "metadata": {},
   "outputs": [],
   "source": [
    "#REMOVING NON STORE_ID ROWS FROM THE DATASTE\n",
    "uninstallation_data = uninstallation_data[uninstallation_data['Identity'] < 1000000] \n",
    "#ADDING COLUMN IF STORE HAS  UINSTALLED APP (1)OR NOT(0)\n",
    "responce_data[\"uninstalled_app\"] = np.nan\n",
    "# FILLING VALUES IN AVERAGE DELIVERY DISTANCE WITH THE MEDIAN OF THE DATA\n",
    "median_value=responce_data['avg_delivery_distance_in_metre'].median()\n",
    "#fill null values with 0 in average_delivery_distance Column\n",
    "responce_data['avg_delivery_distance_in_metre']=responce_data['avg_delivery_distance_in_metre'].fillna(value=0)\n",
    "\n",
    "responce_data['avg_delivery_distance_in_metre']=responce_data['avg_delivery_distance_in_metre'].fillna(median_value)\n",
    "#for average gap of time between subsequent orders\n",
    "median_value=responce_data['average_gap_of_time_in_hours_in_subsequent_orders'].median()\n",
    "#fill null values with 0 in average_delivery_distance Column\n",
    "responce_data['average_gap_of_time_in_hours_in_subsequent_orders']=responce_data['average_gap_of_time_in_hours_in_subsequent_orders'].fillna(value=0)\n",
    "\n",
    "responce_data['average_gap_of_time_in_hours_in_subsequent_orders']=responce_data['average_gap_of_time_in_hours_in_subsequent_orders']"
   ]
  },
  {
   "cell_type": "markdown",
   "metadata": {},
   "source": [
    "### Adding a Target column, if a store have uninstalled the application as TRUE and if not uninstalled as FALSE"
   ]
  },
  {
   "cell_type": "code",
   "execution_count": 51,
   "metadata": {},
   "outputs": [],
   "source": [
    "for i in range(len(responce_data)):\n",
    "    if responce_data['store_id'][i] in uninstallation_data_nparray:\n",
    "        responce_data['uninstalled_app'][i]= 1\n",
    "    else:\n",
    "        responce_data['uninstalled_app'][i]= 0"
   ]
  },
  {
   "cell_type": "code",
   "execution_count": 52,
   "metadata": {},
   "outputs": [
    {
     "data": {
      "text/html": [
       "<div>\n",
       "<style scoped>\n",
       "    .dataframe tbody tr th:only-of-type {\n",
       "        vertical-align: middle;\n",
       "    }\n",
       "\n",
       "    .dataframe tbody tr th {\n",
       "        vertical-align: top;\n",
       "    }\n",
       "\n",
       "    .dataframe thead th {\n",
       "        text-align: right;\n",
       "    }\n",
       "</style>\n",
       "<table border=\"1\" class=\"dataframe\">\n",
       "  <thead>\n",
       "    <tr style=\"text-align: right;\">\n",
       "      <th></th>\n",
       "      <th>total_orders</th>\n",
       "      <th>average_orders_per_day</th>\n",
       "      <th>average_gap_of_time_in_hours_in_subsequent_orders</th>\n",
       "      <th>ratio_delivered_to_pick_up</th>\n",
       "      <th>total_orders_delivered</th>\n",
       "      <th>total_orders_pickup</th>\n",
       "      <th>avg_delivery_distance_in_metre</th>\n",
       "      <th>avg_basket_size</th>\n",
       "      <th>avg_basket_price</th>\n",
       "      <th>avg_unique_basket_size</th>\n",
       "      <th>...</th>\n",
       "      <th>health</th>\n",
       "      <th>hospital</th>\n",
       "      <th>locality</th>\n",
       "      <th>lodging</th>\n",
       "      <th>pharmacy</th>\n",
       "      <th>point_of_interest</th>\n",
       "      <th>political</th>\n",
       "      <th>restaurant</th>\n",
       "      <th>store</th>\n",
       "      <th>uninstalled_app</th>\n",
       "    </tr>\n",
       "  </thead>\n",
       "  <tbody>\n",
       "    <tr>\n",
       "      <td>0</td>\n",
       "      <td>6712</td>\n",
       "      <td>58.877193</td>\n",
       "      <td>0.408229</td>\n",
       "      <td>190.771429</td>\n",
       "      <td>6677</td>\n",
       "      <td>35</td>\n",
       "      <td>122.089756</td>\n",
       "      <td>3.116063</td>\n",
       "      <td>332.816063</td>\n",
       "      <td>3.073816</td>\n",
       "      <td>...</td>\n",
       "      <td>3.0</td>\n",
       "      <td>3.0</td>\n",
       "      <td>1</td>\n",
       "      <td>NaN</td>\n",
       "      <td>NaN</td>\n",
       "      <td>18</td>\n",
       "      <td>2</td>\n",
       "      <td>NaN</td>\n",
       "      <td>1.0</td>\n",
       "      <td>1.0</td>\n",
       "    </tr>\n",
       "    <tr>\n",
       "      <td>1</td>\n",
       "      <td>38</td>\n",
       "      <td>0.487179</td>\n",
       "      <td>50.711917</td>\n",
       "      <td>0.000000</td>\n",
       "      <td>38</td>\n",
       "      <td>0</td>\n",
       "      <td>315.390632</td>\n",
       "      <td>2.111111</td>\n",
       "      <td>185.333333</td>\n",
       "      <td>2.111111</td>\n",
       "      <td>...</td>\n",
       "      <td>3.0</td>\n",
       "      <td>3.0</td>\n",
       "      <td>1</td>\n",
       "      <td>NaN</td>\n",
       "      <td>NaN</td>\n",
       "      <td>18</td>\n",
       "      <td>2</td>\n",
       "      <td>NaN</td>\n",
       "      <td>1.0</td>\n",
       "      <td>0.0</td>\n",
       "    </tr>\n",
       "    <tr>\n",
       "      <td>2</td>\n",
       "      <td>934</td>\n",
       "      <td>5.247191</td>\n",
       "      <td>4.581109</td>\n",
       "      <td>92.400000</td>\n",
       "      <td>924</td>\n",
       "      <td>10</td>\n",
       "      <td>63.883911</td>\n",
       "      <td>1.074799</td>\n",
       "      <td>376.498274</td>\n",
       "      <td>1.074799</td>\n",
       "      <td>...</td>\n",
       "      <td>3.0</td>\n",
       "      <td>3.0</td>\n",
       "      <td>1</td>\n",
       "      <td>NaN</td>\n",
       "      <td>NaN</td>\n",
       "      <td>18</td>\n",
       "      <td>2</td>\n",
       "      <td>NaN</td>\n",
       "      <td>1.0</td>\n",
       "      <td>0.0</td>\n",
       "    </tr>\n",
       "    <tr>\n",
       "      <td>3</td>\n",
       "      <td>2353</td>\n",
       "      <td>13.219101</td>\n",
       "      <td>1.819067</td>\n",
       "      <td>15.116438</td>\n",
       "      <td>2207</td>\n",
       "      <td>146</td>\n",
       "      <td>226.941565</td>\n",
       "      <td>2.758499</td>\n",
       "      <td>260.164549</td>\n",
       "      <td>2.737397</td>\n",
       "      <td>...</td>\n",
       "      <td>3.0</td>\n",
       "      <td>3.0</td>\n",
       "      <td>1</td>\n",
       "      <td>NaN</td>\n",
       "      <td>NaN</td>\n",
       "      <td>18</td>\n",
       "      <td>2</td>\n",
       "      <td>NaN</td>\n",
       "      <td>1.0</td>\n",
       "      <td>1.0</td>\n",
       "    </tr>\n",
       "    <tr>\n",
       "      <td>4</td>\n",
       "      <td>306</td>\n",
       "      <td>2.684211</td>\n",
       "      <td>9.035357</td>\n",
       "      <td>0.000000</td>\n",
       "      <td>306</td>\n",
       "      <td>0</td>\n",
       "      <td>1072.804944</td>\n",
       "      <td>6.120000</td>\n",
       "      <td>564.400000</td>\n",
       "      <td>6.120000</td>\n",
       "      <td>...</td>\n",
       "      <td>3.0</td>\n",
       "      <td>3.0</td>\n",
       "      <td>1</td>\n",
       "      <td>NaN</td>\n",
       "      <td>NaN</td>\n",
       "      <td>18</td>\n",
       "      <td>2</td>\n",
       "      <td>NaN</td>\n",
       "      <td>1.0</td>\n",
       "      <td>0.0</td>\n",
       "    </tr>\n",
       "  </tbody>\n",
       "</table>\n",
       "<p>5 rows × 37 columns</p>\n",
       "</div>"
      ],
      "text/plain": [
       "   total_orders  average_orders_per_day  \\\n",
       "0          6712               58.877193   \n",
       "1            38                0.487179   \n",
       "2           934                5.247191   \n",
       "3          2353               13.219101   \n",
       "4           306                2.684211   \n",
       "\n",
       "   average_gap_of_time_in_hours_in_subsequent_orders  \\\n",
       "0                                           0.408229   \n",
       "1                                          50.711917   \n",
       "2                                           4.581109   \n",
       "3                                           1.819067   \n",
       "4                                           9.035357   \n",
       "\n",
       "   ratio_delivered_to_pick_up  total_orders_delivered  total_orders_pickup  \\\n",
       "0                  190.771429                    6677                   35   \n",
       "1                    0.000000                      38                    0   \n",
       "2                   92.400000                     924                   10   \n",
       "3                   15.116438                    2207                  146   \n",
       "4                    0.000000                     306                    0   \n",
       "\n",
       "   avg_delivery_distance_in_metre  avg_basket_size  avg_basket_price  \\\n",
       "0                      122.089756         3.116063        332.816063   \n",
       "1                      315.390632         2.111111        185.333333   \n",
       "2                       63.883911         1.074799        376.498274   \n",
       "3                      226.941565         2.758499        260.164549   \n",
       "4                     1072.804944         6.120000        564.400000   \n",
       "\n",
       "   avg_unique_basket_size  ...  health  hospital  locality lodging pharmacy  \\\n",
       "0                3.073816  ...     3.0       3.0         1     NaN      NaN   \n",
       "1                2.111111  ...     3.0       3.0         1     NaN      NaN   \n",
       "2                1.074799  ...     3.0       3.0         1     NaN      NaN   \n",
       "3                2.737397  ...     3.0       3.0         1     NaN      NaN   \n",
       "4                6.120000  ...     3.0       3.0         1     NaN      NaN   \n",
       "\n",
       "  point_of_interest  political  restaurant  store  uninstalled_app  \n",
       "0                18          2         NaN    1.0              1.0  \n",
       "1                18          2         NaN    1.0              0.0  \n",
       "2                18          2         NaN    1.0              0.0  \n",
       "3                18          2         NaN    1.0              1.0  \n",
       "4                18          2         NaN    1.0              0.0  \n",
       "\n",
       "[5 rows x 37 columns]"
      ]
     },
     "execution_count": 52,
     "metadata": {},
     "output_type": "execute_result"
    }
   ],
   "source": [
    "responce_data.head()"
   ]
  },
  {
   "cell_type": "code",
   "execution_count": 53,
   "metadata": {},
   "outputs": [],
   "source": [
    "#MAking X and Y \n",
    "y = responce_data['uninstalled_app']\n",
    "X = responce_data[['total_orders','average_orders_per_day','average_gap_of_time_in_hours_in_subsequent_orders','ratio_delivered_to_pick_up','total_orders_delivered','total_orders_pickup','avg_delivery_distance_in_metre','avg_basket_size','avg_basket_price','avg_unique_basket_size','avg_unique_basket_price','average_diff_btwn_range_of_basket_price','avg_no_of_customers_per_day','atm','bakery','bank','finance','food','gas_station','grocery_or_supermarket','health','hospital','locality','lodging','pharmacy','point_of_interest','political','restaurant','store']]\n"
   ]
  },
  {
   "cell_type": "markdown",
   "metadata": {},
   "source": [
    "### Checking if the dataset is Imbalanced"
   ]
  },
  {
   "cell_type": "code",
   "execution_count": 30,
   "metadata": {},
   "outputs": [
    {
     "data": {
      "image/png": "[encoded data removed]",
      "text/plain": [
       "<Figure size 432x288 with 1 Axes>"
      ]
     },
     "metadata": {
      "needs_background": "light"
     },
     "output_type": "display_data"
    }
   ],
   "source": [
    "responce_data.uninstalled_app.value_counts().plot(kind='bar', title='Count (target)',color=list('br'));\n"
   ]
  },
  {
   "cell_type": "markdown",
   "metadata": {},
   "source": [
    "Hence the dataset is highly imbalanced with only 23% of stores have uninstalled the application and rest 77% retail stores haven't uinstalled the application. \n",
    "Hence, the evaluation matrices for the Imbalanced dataset are to be Precision, Recall, AUC-ROC, weighted F1-score."
   ]
  },
  {
   "cell_type": "markdown",
   "metadata": {},
   "source": [
    "## Data Preprocessing"
   ]
  },
  {
   "cell_type": "code",
   "execution_count": 31,
   "metadata": {},
   "outputs": [],
   "source": [
    "#SPLITTING THE DATA INTO TRAIN AND TEST        \n",
    "X_train, X_test, y_train, y_test = train_test_split(X,y,test_size=0.20)"
   ]
  },
  {
   "cell_type": "markdown",
   "metadata": {},
   "source": [
    "### Fitting the MODEL"
   ]
  },
  {
   "cell_type": "code",
   "execution_count": 32,
   "metadata": {},
   "outputs": [],
   "source": [
    "decision_tree = DecisionTreeClassifier()\n",
    "\n",
    "#Decision Tree¶\n",
    "scoring = ['accuracy', 'precision_macro', 'recall_macro' , 'f1_weighted', 'roc_auc']\n",
    "scores = cross_validate(decision_tree, X_train, y_train, scoring=scoring, cv=20)\n",
    "\n",
    "sorted(scores.keys())\n",
    "dtree_fit_time = scores['fit_time'].mean()\n",
    "dtree_score_time = scores['score_time'].mean()\n",
    "dtree_accuracy = scores['test_accuracy'].mean()\n",
    "dtree_precision = scores['test_precision_macro'].mean()\n",
    "dtree_recall = scores['test_recall_macro'].mean()\n",
    "dtree_f1 = scores['test_f1_weighted'].mean()\n",
    "dtree_roc = scores['test_roc_auc'].mean()"
   ]
  },
  {
   "cell_type": "code",
   "execution_count": 41,
   "metadata": {},
   "outputs": [
    {
     "data": {
      "text/plain": [
       "0.6049456765232974"
      ]
     },
     "execution_count": 41,
     "metadata": {},
     "output_type": "execute_result"
    }
   ],
   "source": [
    "dtree_roc"
   ]
  },
  {
   "cell_type": "code",
   "execution_count": 40,
   "metadata": {},
   "outputs": [],
   "source": [
    "#RADOM FOREST CLAS\n",
    "random_forest = RandomForestClassifier()\n",
    "\n",
    "scoring = ['accuracy', 'precision_macro', 'recall_macro' , 'f1_weighted', 'roc_auc']\n",
    "scores = cross_validate(random_forest, X_train, y_train, scoring=scoring, cv=20)\n",
    "\n",
    "sorted(scores.keys())\n",
    "forest_fit_time = scores['fit_time'].mean()\n",
    "forest_score_time = scores['score_time'].mean()\n",
    "forest_accuracy = scores['test_accuracy'].mean()\n",
    "forest_precision = scores['test_precision_macro'].mean()\n",
    "forest_recall = scores['test_recall_macro'].mean()\n",
    "forest_f1 = scores['test_f1_weighted'].mean()\n",
    "forest_roc = scores['test_roc_auc'].mean()\n"
   ]
  },
  {
   "cell_type": "code",
   "execution_count": 39,
   "metadata": {},
   "outputs": [
    {
     "data": {
      "text/plain": [
       "0.6615389784946236"
      ]
     },
     "execution_count": 39,
     "metadata": {},
     "output_type": "execute_result"
    }
   ],
   "source": [
    "forest_roc"
   ]
  },
  {
   "cell_type": "markdown",
   "metadata": {},
   "source": [
    "### Results: For a new store getting on-boarded after some  transactions made from it we can predict that  if the retailer is going to uninstall the application or not with an accuracy of nearly 66% . \n"
   ]
  },
  {
   "cell_type": "code",
   "execution_count": null,
   "metadata": {},
   "outputs": [],
   "source": []
  }
 ],
 "metadata": {
  "kernelspec": {
   "display_name": "Python 3",
   "language": "python",
   "name": "python3"
  },
  "language_info": {
   "codemirror_mode": {
    "name": "ipython",
    "version": 3
   },
   "file_extension": ".py",
   "mimetype": "text/x-python",
   "name": "python",
   "nbconvert_exporter": "python",
   "pygments_lexer": "ipython3",
   "version": "3.7.4"
  }
 },
 "nbformat": 4,
 "nbformat_minor": 2
}
